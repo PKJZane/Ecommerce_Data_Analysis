{
 "cells": [
  {
   "cell_type": "markdown",
   "id": "4b34e963",
   "metadata": {},
   "source": [
    "## About the Dataset\n",
    "This dataset is having data of customers who buys clothes online. The store offers in-store style and clothing advice sessions. Customers come in to the store, have sessions/meetings with a personal stylist, then they can go home and order either on a mobile app or website for the clothes they want.\n",
    "\n",
    "\n",
    "_There are eight features in the dataset_\n",
    "- Email : The email address of th customer\n",
    "- Address : The address of the customer \n",
    "- Avatar : The customer's unique identifier\n",
    "-  Avg. Session Length : Average session time spent with stylist\n",
    "- Time on App: Time spent in minutes by customer on the vendor's app\n",
    "- Time on Website : Time spent in minutes by customer on the vendor's website\n",
    "- Length of Membership : How long the customer has been a member\n",
    "- Yearly Amount Spent: The total amount spent in  a year by the customer\n",
    "\n",
    "**The company is trying to decide whether to focus their efforts on their mobile app experience or their website.**\n"
   ]
  },
  {
   "cell_type": "code",
   "execution_count": 1,
   "id": "08f356fe",
   "metadata": {},
   "outputs": [],
   "source": [
    "import pandas as pd\n",
    "import numpy as np\n",
    "import matplotlib.pyplot as plt\n",
    "import seaborn as sns"
   ]
  },
  {
   "cell_type": "code",
   "execution_count": 4,
   "id": "49256a49",
   "metadata": {},
   "outputs": [
    {
     "data": {
      "text/html": [
       "<div>\n",
       "<style scoped>\n",
       "    .dataframe tbody tr th:only-of-type {\n",
       "        vertical-align: middle;\n",
       "    }\n",
       "\n",
       "    .dataframe tbody tr th {\n",
       "        vertical-align: top;\n",
       "    }\n",
       "\n",
       "    .dataframe thead th {\n",
       "        text-align: right;\n",
       "    }\n",
       "</style>\n",
       "<table border=\"1\" class=\"dataframe\">\n",
       "  <thead>\n",
       "    <tr style=\"text-align: right;\">\n",
       "      <th></th>\n",
       "      <th>Email</th>\n",
       "      <th>Address</th>\n",
       "      <th>Avatar</th>\n",
       "      <th>Avg. Session Length</th>\n",
       "      <th>Time on App</th>\n",
       "      <th>Time on Website</th>\n",
       "      <th>Length of Membership</th>\n",
       "      <th>Yearly Amount Spent</th>\n",
       "    </tr>\n",
       "  </thead>\n",
       "  <tbody>\n",
       "    <tr>\n",
       "      <th>0</th>\n",
       "      <td>mstephenson@fernandez.com</td>\n",
       "      <td>835 Frank Tunnel\\nWrightmouth, MI 82180-9605</td>\n",
       "      <td>Violet</td>\n",
       "      <td>34.497268</td>\n",
       "      <td>12.655651</td>\n",
       "      <td>39.577668</td>\n",
       "      <td>4.082621</td>\n",
       "      <td>587.951054</td>\n",
       "    </tr>\n",
       "    <tr>\n",
       "      <th>1</th>\n",
       "      <td>hduke@hotmail.com</td>\n",
       "      <td>4547 Archer Common\\nDiazchester, CA 06566-8576</td>\n",
       "      <td>DarkGreen</td>\n",
       "      <td>31.926272</td>\n",
       "      <td>11.109461</td>\n",
       "      <td>37.268959</td>\n",
       "      <td>2.664034</td>\n",
       "      <td>392.204933</td>\n",
       "    </tr>\n",
       "    <tr>\n",
       "      <th>2</th>\n",
       "      <td>pallen@yahoo.com</td>\n",
       "      <td>24645 Valerie Unions Suite 582\\nCobbborough, D...</td>\n",
       "      <td>Bisque</td>\n",
       "      <td>33.000915</td>\n",
       "      <td>11.330278</td>\n",
       "      <td>37.110597</td>\n",
       "      <td>4.104543</td>\n",
       "      <td>487.547505</td>\n",
       "    </tr>\n",
       "    <tr>\n",
       "      <th>3</th>\n",
       "      <td>riverarebecca@gmail.com</td>\n",
       "      <td>1414 David Throughway\\nPort Jason, OH 22070-1220</td>\n",
       "      <td>SaddleBrown</td>\n",
       "      <td>34.305557</td>\n",
       "      <td>13.717514</td>\n",
       "      <td>36.721283</td>\n",
       "      <td>3.120179</td>\n",
       "      <td>581.852344</td>\n",
       "    </tr>\n",
       "    <tr>\n",
       "      <th>4</th>\n",
       "      <td>mstephens@davidson-herman.com</td>\n",
       "      <td>14023 Rodriguez Passage\\nPort Jacobville, PR 3...</td>\n",
       "      <td>MediumAquaMarine</td>\n",
       "      <td>33.330673</td>\n",
       "      <td>12.795189</td>\n",
       "      <td>37.536653</td>\n",
       "      <td>4.446308</td>\n",
       "      <td>599.406092</td>\n",
       "    </tr>\n",
       "  </tbody>\n",
       "</table>\n",
       "</div>"
      ],
      "text/plain": [
       "                           Email  \\\n",
       "0      mstephenson@fernandez.com   \n",
       "1              hduke@hotmail.com   \n",
       "2               pallen@yahoo.com   \n",
       "3        riverarebecca@gmail.com   \n",
       "4  mstephens@davidson-herman.com   \n",
       "\n",
       "                                             Address            Avatar  \\\n",
       "0       835 Frank Tunnel\\nWrightmouth, MI 82180-9605            Violet   \n",
       "1     4547 Archer Common\\nDiazchester, CA 06566-8576         DarkGreen   \n",
       "2  24645 Valerie Unions Suite 582\\nCobbborough, D...            Bisque   \n",
       "3   1414 David Throughway\\nPort Jason, OH 22070-1220       SaddleBrown   \n",
       "4  14023 Rodriguez Passage\\nPort Jacobville, PR 3...  MediumAquaMarine   \n",
       "\n",
       "   Avg. Session Length  Time on App  Time on Website  Length of Membership  \\\n",
       "0            34.497268    12.655651        39.577668              4.082621   \n",
       "1            31.926272    11.109461        37.268959              2.664034   \n",
       "2            33.000915    11.330278        37.110597              4.104543   \n",
       "3            34.305557    13.717514        36.721283              3.120179   \n",
       "4            33.330673    12.795189        37.536653              4.446308   \n",
       "\n",
       "   Yearly Amount Spent  \n",
       "0           587.951054  \n",
       "1           392.204933  \n",
       "2           487.547505  \n",
       "3           581.852344  \n",
       "4           599.406092  "
      ]
     },
     "execution_count": 4,
     "metadata": {},
     "output_type": "execute_result"
    }
   ],
   "source": [
    "data = pd.read_csv('ecommerce_data.csv')\n",
    "data.head()"
   ]
  },
  {
   "cell_type": "code",
   "execution_count": 5,
   "id": "8ba91c10",
   "metadata": {},
   "outputs": [
    {
     "name": "stdout",
     "output_type": "stream",
     "text": [
      "<class 'pandas.core.frame.DataFrame'>\n",
      "RangeIndex: 500 entries, 0 to 499\n",
      "Data columns (total 8 columns):\n",
      " #   Column                Non-Null Count  Dtype  \n",
      "---  ------                --------------  -----  \n",
      " 0   Email                 500 non-null    object \n",
      " 1   Address               500 non-null    object \n",
      " 2   Avatar                500 non-null    object \n",
      " 3   Avg. Session Length   500 non-null    float64\n",
      " 4   Time on App           500 non-null    float64\n",
      " 5   Time on Website       500 non-null    float64\n",
      " 6   Length of Membership  500 non-null    float64\n",
      " 7   Yearly Amount Spent   500 non-null    float64\n",
      "dtypes: float64(5), object(3)\n",
      "memory usage: 31.4+ KB\n"
     ]
    }
   ],
   "source": [
    "data.info()"
   ]
  },
  {
   "cell_type": "code",
   "execution_count": 6,
   "id": "8e20ee4e",
   "metadata": {},
   "outputs": [
    {
     "data": {
      "text/plain": [
       "(500, 8)"
      ]
     },
     "execution_count": 6,
     "metadata": {},
     "output_type": "execute_result"
    }
   ],
   "source": [
    "data.shape"
   ]
  },
  {
   "cell_type": "code",
   "execution_count": 8,
   "id": "417aeb21",
   "metadata": {},
   "outputs": [
    {
     "data": {
      "text/plain": [
       "4000"
      ]
     },
     "execution_count": 8,
     "metadata": {},
     "output_type": "execute_result"
    }
   ],
   "source": [
    "data.size"
   ]
  },
  {
   "cell_type": "markdown",
   "id": "a1781354",
   "metadata": {},
   "source": [
    "There are 500 records in the dataset. "
   ]
  },
  {
   "cell_type": "markdown",
   "id": "b8c31d93",
   "metadata": {},
   "source": [
    "#### Checking For Missing Data"
   ]
  },
  {
   "cell_type": "code",
   "execution_count": 13,
   "id": "d5afb3b9",
   "metadata": {},
   "outputs": [
    {
     "data": {
      "text/plain": [
       "0"
      ]
     },
     "execution_count": 13,
     "metadata": {},
     "output_type": "execute_result"
    }
   ],
   "source": [
    "data.isnull().sum().sum()"
   ]
  },
  {
   "cell_type": "markdown",
   "id": "179b1ea6",
   "metadata": {},
   "source": [
    "There are no missing values"
   ]
  },
  {
   "cell_type": "markdown",
   "id": "0621762b",
   "metadata": {},
   "source": [
    "#### Checking for duplicates"
   ]
  },
  {
   "cell_type": "code",
   "execution_count": 16,
   "id": "1099d11f",
   "metadata": {},
   "outputs": [
    {
     "data": {
      "text/plain": [
       "0"
      ]
     },
     "execution_count": 16,
     "metadata": {},
     "output_type": "execute_result"
    }
   ],
   "source": [
    "data.duplicated().sum()"
   ]
  },
  {
   "cell_type": "markdown",
   "id": "c3dd6326",
   "metadata": {},
   "source": [
    "There are no duplicates in the dataset"
   ]
  },
  {
   "cell_type": "code",
   "execution_count": 20,
   "id": "c5b7f533",
   "metadata": {},
   "outputs": [
    {
     "data": {
      "text/html": [
       "<div>\n",
       "<style scoped>\n",
       "    .dataframe tbody tr th:only-of-type {\n",
       "        vertical-align: middle;\n",
       "    }\n",
       "\n",
       "    .dataframe tbody tr th {\n",
       "        vertical-align: top;\n",
       "    }\n",
       "\n",
       "    .dataframe thead th {\n",
       "        text-align: right;\n",
       "    }\n",
       "</style>\n",
       "<table border=\"1\" class=\"dataframe\">\n",
       "  <thead>\n",
       "    <tr style=\"text-align: right;\">\n",
       "      <th></th>\n",
       "      <th>count</th>\n",
       "      <th>mean</th>\n",
       "      <th>std</th>\n",
       "      <th>min</th>\n",
       "      <th>25%</th>\n",
       "      <th>50%</th>\n",
       "      <th>75%</th>\n",
       "      <th>max</th>\n",
       "    </tr>\n",
       "  </thead>\n",
       "  <tbody>\n",
       "    <tr>\n",
       "      <th>Avg. Session Length</th>\n",
       "      <td>500.0</td>\n",
       "      <td>33.053194</td>\n",
       "      <td>0.992563</td>\n",
       "      <td>29.532429</td>\n",
       "      <td>32.341822</td>\n",
       "      <td>33.082008</td>\n",
       "      <td>33.711985</td>\n",
       "      <td>36.139662</td>\n",
       "    </tr>\n",
       "    <tr>\n",
       "      <th>Time on App</th>\n",
       "      <td>500.0</td>\n",
       "      <td>12.052488</td>\n",
       "      <td>0.994216</td>\n",
       "      <td>8.508152</td>\n",
       "      <td>11.388153</td>\n",
       "      <td>11.983231</td>\n",
       "      <td>12.753850</td>\n",
       "      <td>15.126994</td>\n",
       "    </tr>\n",
       "    <tr>\n",
       "      <th>Time on Website</th>\n",
       "      <td>500.0</td>\n",
       "      <td>37.060445</td>\n",
       "      <td>1.010489</td>\n",
       "      <td>33.913847</td>\n",
       "      <td>36.349257</td>\n",
       "      <td>37.069367</td>\n",
       "      <td>37.716432</td>\n",
       "      <td>40.005182</td>\n",
       "    </tr>\n",
       "    <tr>\n",
       "      <th>Length of Membership</th>\n",
       "      <td>500.0</td>\n",
       "      <td>3.533462</td>\n",
       "      <td>0.999278</td>\n",
       "      <td>0.269901</td>\n",
       "      <td>2.930450</td>\n",
       "      <td>3.533975</td>\n",
       "      <td>4.126502</td>\n",
       "      <td>6.922689</td>\n",
       "    </tr>\n",
       "    <tr>\n",
       "      <th>Yearly Amount Spent</th>\n",
       "      <td>500.0</td>\n",
       "      <td>499.314038</td>\n",
       "      <td>79.314782</td>\n",
       "      <td>256.670582</td>\n",
       "      <td>445.038277</td>\n",
       "      <td>498.887875</td>\n",
       "      <td>549.313828</td>\n",
       "      <td>765.518462</td>\n",
       "    </tr>\n",
       "  </tbody>\n",
       "</table>\n",
       "</div>"
      ],
      "text/plain": [
       "                      count        mean        std         min         25%  \\\n",
       "Avg. Session Length   500.0   33.053194   0.992563   29.532429   32.341822   \n",
       "Time on App           500.0   12.052488   0.994216    8.508152   11.388153   \n",
       "Time on Website       500.0   37.060445   1.010489   33.913847   36.349257   \n",
       "Length of Membership  500.0    3.533462   0.999278    0.269901    2.930450   \n",
       "Yearly Amount Spent   500.0  499.314038  79.314782  256.670582  445.038277   \n",
       "\n",
       "                             50%         75%         max  \n",
       "Avg. Session Length    33.082008   33.711985   36.139662  \n",
       "Time on App            11.983231   12.753850   15.126994  \n",
       "Time on Website        37.069367   37.716432   40.005182  \n",
       "Length of Membership    3.533975    4.126502    6.922689  \n",
       "Yearly Amount Spent   498.887875  549.313828  765.518462  "
      ]
     },
     "execution_count": 20,
     "metadata": {},
     "output_type": "execute_result"
    }
   ],
   "source": [
    "data.describe().T"
   ]
  },
  {
   "cell_type": "markdown",
   "id": "1a98d4f0",
   "metadata": {},
   "source": [
    "There are 500 observations.\n",
    "- The minimum and maximum _yearly_amount_spent_ is ~256.67 and ~765.51 respectively with about 75% of the observation being less than 550. \n",
    "- Customers spend between 8 and ~15 minutes on the app with an average time of ~12 minutes\n",
    "- Customers spend getween 33 and 40 minures in the website with an average of 37 minutes\n",
    "- The older membership is ~7years"
   ]
  },
  {
   "cell_type": "markdown",
   "id": "fd3c82f1",
   "metadata": {},
   "source": [
    "##### What are the main feature(s) of interest in the dataset?\n",
    "The main features of interest are : of the dataset are:\n",
    "   - **Yearly Amount Spent**\n",
    "\n",
    "\n",
    "\n",
    "##### What Features in the dataset that will support the investigation into the item of interest?\n",
    "There are four features I believe could prove useful in the investigation: \n",
    "   - Average session time with the stylist\n",
    "   - Time on App\n",
    "   - Time on Website\n",
    "   - Lenght of Membership"
   ]
  },
  {
   "cell_type": "markdown",
   "id": "c43da002",
   "metadata": {},
   "source": [
    "# Univariate Analysis"
   ]
  },
  {
   "cell_type": "code",
   "execution_count": 36,
   "id": "cc3c88aa",
   "metadata": {},
   "outputs": [
    {
     "data": {
      "image/png": "[encoded data removed]",
      "text/plain": [
       "<Figure size 720x360 with 1 Axes>"
      ]
     },
     "metadata": {
      "needs_background": "light"
     },
     "output_type": "display_data"
    }
   ],
   "source": [
    "plt.figure(figsize=(10,5))\n",
    "sns.histplot(data = data, x = 'Yearly Amount Spent', bins=50)\n",
    "plt.title('Distribution of Amount Spent Yearly')\n",
    "plt.xlabel('Yearly Amount Spent')\n",
    "plt.show()"
   ]
  },
  {
   "cell_type": "markdown",
   "id": "3c3c1bab",
   "metadata": {},
   "source": [
    "- The yearly amount spent feature is normally distributed. "
   ]
  },
  {
   "cell_type": "code",
   "execution_count": 37,
   "id": "86a04d73",
   "metadata": {},
   "outputs": [
    {
     "data": {
      "image/png": "[encoded data removed]",
      "text/plain": [
       "<Figure size 720x360 with 1 Axes>"
      ]
     },
     "metadata": {
      "needs_background": "light"
     },
     "output_type": "display_data"
    }
   ],
   "source": [
    "plt.figure(figsize=(10,5))\n",
    "sns.histplot(data = data, x = 'Time on App', bins=30)\n",
    "plt.title('Distribution - Customer time spent on the App')\n",
    "plt.xlabel('Time on App')\n",
    "plt.show()"
   ]
  },
  {
   "cell_type": "markdown",
   "id": "0cb9baaa",
   "metadata": {},
   "source": [
    "Time spent on App also follows a normal distribution albeit a very little skewed to the left. "
   ]
  },
  {
   "cell_type": "code",
   "execution_count": 38,
   "id": "55cc65ad",
   "metadata": {},
   "outputs": [
    {
     "data": {
      "image/png": "[encoded data removed]",
      "text/plain": [
       "<Figure size 720x360 with 1 Axes>"
      ]
     },
     "metadata": {
      "needs_background": "light"
     },
     "output_type": "display_data"
    }
   ],
   "source": [
    "plt.figure(figsize=(10,5))\n",
    "sns.histplot(data = data, x = 'Length of Membership', bins=30)\n",
    "plt.title('Distribution - Membership Lenght in years')\n",
    "plt.xlabel('Length of Membership')\n",
    "plt.show()"
   ]
  },
  {
   "cell_type": "markdown",
   "id": "f9c9d728",
   "metadata": {},
   "source": [
    "Lenght of Membership also follows a normal distribution"
   ]
  },
  {
   "cell_type": "code",
   "execution_count": 41,
   "id": "26880ec4",
   "metadata": {},
   "outputs": [
    {
     "data": {
      "image/png": "[encoded data removed]",
      "text/plain": [
       "<Figure size 720x360 with 1 Axes>"
      ]
     },
     "metadata": {
      "needs_background": "light"
     },
     "output_type": "display_data"
    }
   ],
   "source": [
    "plt.figure(figsize=(10,5))\n",
    "sns.histplot(data = data, x = 'Time on Website', bins=20)\n",
    "plt.title('Distribution - Time on Websites')\n",
    "plt.xlabel('Time on Website')\n",
    "plt.show()"
   ]
  },
  {
   "cell_type": "markdown",
   "id": "1cd04d83",
   "metadata": {},
   "source": [
    "This Time Spent on Website is also normally distributed. "
   ]
  },
  {
   "cell_type": "markdown",
   "id": "10e9a5b3",
   "metadata": {},
   "source": [
    "### Analyze the categorical variable - Avatar"
   ]
  },
  {
   "cell_type": "code",
   "execution_count": 43,
   "id": "699d2849",
   "metadata": {},
   "outputs": [
    {
     "data": {
      "text/plain": [
       "138"
      ]
     },
     "execution_count": 43,
     "metadata": {},
     "output_type": "execute_result"
    }
   ],
   "source": [
    "\n",
    "data.Avatar.nunique()"
   ]
  },
  {
   "cell_type": "markdown",
   "id": "8cd159cd",
   "metadata": {},
   "source": [
    "There are 138 unique values for Avatar. That means that we have 138 distinct customers. Let's analyse the distribution of customers"
   ]
  },
  {
   "cell_type": "code",
   "execution_count": 63,
   "id": "af56e401",
   "metadata": {},
   "outputs": [
    {
     "data": {
      "text/plain": [
       "array([7, 6, 5, 4, 3, 2, 1], dtype=int64)"
      ]
     },
     "execution_count": 63,
     "metadata": {},
     "output_type": "execute_result"
    }
   ],
   "source": [
    "data.Avatar.value_counts().unique()"
   ]
  },
  {
   "cell_type": "markdown",
   "id": "93335378",
   "metadata": {},
   "source": [
    "The most times a customer interacted with the company is 7 times and the least being once"
   ]
  },
  {
   "cell_type": "code",
   "execution_count": null,
   "id": "d83e36a1",
   "metadata": {},
   "outputs": [],
   "source": []
  }
 ],
 "metadata": {
  "kernelspec": {
   "display_name": "Python 3 (ipykernel)",
   "language": "python",
   "name": "python3"
  },
  "language_info": {
   "codemirror_mode": {
    "name": "ipython",
    "version": 3
   },
   "file_extension": ".py",
   "mimetype": "text/x-python",
   "name": "python",
   "nbconvert_exporter": "python",
   "pygments_lexer": "ipython3",
   "version": "3.9.12"
  }
 },
 "nbformat": 4,
 "nbformat_minor": 5
}
